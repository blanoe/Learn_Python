{
 "cells": [
  {
   "cell_type": "markdown",
   "metadata": {},
   "source": [
    "# Statement"
   ]
  },
  {
   "cell_type": "code",
   "execution_count": null,
   "metadata": {
    "ExecuteTime": {
     "end_time": "2018-09-09T13:40:55.631915Z",
     "start_time": "2018-09-09T13:40:55.616315Z"
    }
   },
   "outputs": [],
   "source": [
    "'Chaine de caractères'"
   ]
  },
  {
   "cell_type": "markdown",
   "metadata": {},
   "source": [
    "They are defined by surrounding them with **apostrophes** or **quotes** : ***'string'*** or ***\"string \"***, indifferently. \n",
    "\n",
    "Everyone does as he wants, but the usual practice in Python is to use apostrophes (**'**) because they are simpler and more pleasant to read. \n",
    "\n",
    "These characters are called *quote* and *double quote*."
   ]
  },
  {
   "cell_type": "code",
   "execution_count": 3,
   "metadata": {
    "ExecuteTime": {
     "end_time": "2018-09-09T13:40:56.037515Z",
     "start_time": "2018-09-09T13:40:56.021915Z"
    },
    "scrolled": true
   },
   "outputs": [
    {
     "data": {
      "text/plain": [
       "True"
      ]
     },
     "execution_count": 3,
     "metadata": {},
     "output_type": "execute_result"
    }
   ],
   "source": [
    "'chaine' == \"chaine\""
   ]
  },
  {
   "cell_type": "markdown",
   "metadata": {},
   "source": [
    "A text can be declared on **multiple lines** by using the same operator (triple apostrophe) as comments on several lines.\n",
    "\n",
    "In this notation it is not necessary to specify the **line break** character."
   ]
  },
  {
   "cell_type": "code",
   "execution_count": 4,
   "metadata": {
    "ExecuteTime": {
     "end_time": "2018-09-09T13:40:57.207515Z",
     "start_time": "2018-09-09T13:40:57.191915Z"
    }
   },
   "outputs": [
    {
     "name": "stdout",
     "output_type": "stream",
     "text": [
      "Text in\n",
      "multiple lines\n"
     ]
    }
   ],
   "source": [
    "ma_chaine = '''Text in\n",
    "multiple lines'''\n",
    "\n",
    "print(ma_chaine)"
   ]
  },
  {
   "cell_type": "markdown",
   "metadata": {},
   "source": [
    "We can get the **number of characters** of a string by using the native function **len()** (like *length*)"
   ]
  },
  {
   "cell_type": "code",
   "execution_count": 5,
   "metadata": {
    "ExecuteTime": {
     "end_time": "2018-09-09T13:40:57.987515Z",
     "start_time": "2018-09-09T13:40:57.971915Z"
    }
   },
   "outputs": [
    {
     "data": {
      "text/plain": [
       "7"
      ]
     },
     "execution_count": 5,
     "metadata": {},
     "output_type": "execute_result"
    }
   ],
   "source": [
    "len('Strings')"
   ]
  },
  {
   "cell_type": "markdown",
   "metadata": {},
   "source": [
    "# Opérations"
   ]
  },
  {
   "cell_type": "markdown",
   "metadata": {},
   "source": [
    "## Opérateurs usuels"
   ]
  },
  {
   "cell_type": "markdown",
   "metadata": {},
   "source": [
    "We can use some usual operators with strings"
   ]
  },
  {
   "cell_type": "markdown",
   "metadata": {},
   "source": [
    "**Addition**"
   ]
  },
  {
   "cell_type": "code",
   "execution_count": 7,
   "metadata": {
    "ExecuteTime": {
     "end_time": "2018-09-09T13:40:59.734715Z",
     "start_time": "2018-09-09T13:40:59.719115Z"
    }
   },
   "outputs": [
    {
     "data": {
      "text/plain": [
       "'Data sciences'"
      ]
     },
     "execution_count": 7,
     "metadata": {},
     "output_type": "execute_result"
    }
   ],
   "source": [
    "'Data' + ' ' + 'sciences' "
   ]
  },
  {
   "cell_type": "markdown",
   "metadata": {},
   "source": [
    "**Multiplication**"
   ]
  },
  {
   "cell_type": "code",
   "execution_count": 10,
   "metadata": {
    "ExecuteTime": {
     "end_time": "2018-09-09T13:41:00.140315Z",
     "start_time": "2018-09-09T13:41:00.124715Z"
    }
   },
   "outputs": [
    {
     "data": {
      "text/plain": [
       "'HelloWorldHelloWorldHelloWorld'"
      ]
     },
     "execution_count": 10,
     "metadata": {},
     "output_type": "execute_result"
    }
   ],
   "source": [
    "3*'HelloWorld'"
   ]
  },
  {
   "cell_type": "markdown",
   "metadata": {},
   "source": [
    "On the other hand, the **division** and **subtraction** operators are not defined for strings"
   ]
  },
  {
   "cell_type": "markdown",
   "metadata": {},
   "source": [
    "## Reassignment operators"
   ]
  },
  {
   "cell_type": "markdown",
   "metadata": {},
   "source": [
    "Consequently, the corresponding reassignment operators (**\\*=** and **+=**) also work"
   ]
  },
  {
   "cell_type": "code",
   "execution_count": 16,
   "metadata": {
    "ExecuteTime": {
     "end_time": "2018-09-09T13:41:00.982715Z",
     "start_time": "2018-09-09T13:41:00.967115Z"
    }
   },
   "outputs": [],
   "source": [
    "my_string = 'My string'"
   ]
  },
  {
   "cell_type": "code",
   "execution_count": 17,
   "metadata": {
    "ExecuteTime": {
     "end_time": "2018-09-09T13:41:01.201115Z",
     "start_time": "2018-09-09T13:41:01.185515Z"
    }
   },
   "outputs": [],
   "source": [
    "my_string += ' complex'"
   ]
  },
  {
   "cell_type": "code",
   "execution_count": 18,
   "metadata": {
    "ExecuteTime": {
     "end_time": "2018-09-09T13:41:01.419515Z",
     "start_time": "2018-09-09T13:41:01.403915Z"
    }
   },
   "outputs": [
    {
     "data": {
      "text/plain": [
       "'My string complex'"
      ]
     },
     "execution_count": 18,
     "metadata": {},
     "output_type": "execute_result"
    }
   ],
   "source": [
    "my_string"
   ]
  },
  {
   "cell_type": "code",
   "execution_count": 19,
   "metadata": {
    "ExecuteTime": {
     "end_time": "2018-09-09T13:41:01.653515Z",
     "start_time": "2018-09-09T13:41:01.637915Z"
    }
   },
   "outputs": [],
   "source": [
    "my_string *= 2"
   ]
  },
  {
   "cell_type": "code",
   "execution_count": 20,
   "metadata": {
    "ExecuteTime": {
     "end_time": "2018-09-09T13:41:01.871915Z",
     "start_time": "2018-09-09T13:41:01.856315Z"
    }
   },
   "outputs": [
    {
     "data": {
      "text/plain": [
       "'My string complexMy string complex'"
      ]
     },
     "execution_count": 20,
     "metadata": {},
     "output_type": "execute_result"
    }
   ],
   "source": [
    "my_string"
   ]
  },
  {
   "cell_type": "markdown",
   "metadata": {},
   "source": [
    "## Home operator"
   ]
  },
  {
   "cell_type": "markdown",
   "metadata": {},
   "source": [
    "We can check the presence of a sub-string in a string by using the **membership operators** : **in** and **not in**"
   ]
  },
  {
   "cell_type": "code",
   "execution_count": 21,
   "metadata": {
    "ExecuteTime": {
     "end_time": "2018-09-09T13:41:02.542715Z",
     "start_time": "2018-09-09T13:41:02.511515Z"
    }
   },
   "outputs": [
    {
     "data": {
      "text/plain": [
       "True"
      ]
     },
     "execution_count": 21,
     "metadata": {},
     "output_type": "execute_result"
    }
   ],
   "source": [
    "'in' in 'My string'"
   ]
  },
  {
   "cell_type": "markdown",
   "metadata": {},
   "source": [
    "# Indicating"
   ]
  },
  {
   "cell_type": "markdown",
   "metadata": {},
   "source": [
    "## By individual element"
   ]
  },
  {
   "cell_type": "code",
   "execution_count": 73,
   "metadata": {
    "ExecuteTime": {
     "end_time": "2018-09-09T13:41:03.478715Z",
     "start_time": "2018-09-09T13:41:03.463115Z"
    }
   },
   "outputs": [],
   "source": [
    "my_string = 'Hello world'"
   ]
  },
  {
   "cell_type": "code",
   "execution_count": 23,
   "metadata": {
    "ExecuteTime": {
     "end_time": "2018-09-09T13:41:03.697115Z",
     "start_time": "2018-09-09T13:41:03.681515Z"
    }
   },
   "outputs": [
    {
     "data": {
      "text/plain": [
       "11"
      ]
     },
     "execution_count": 23,
     "metadata": {},
     "output_type": "execute_result"
    }
   ],
   "source": [
    "len(my_string)"
   ]
  },
  {
   "cell_type": "markdown",
   "metadata": {},
   "source": [
    "We refer to a specific character in the string by using the [i] operator to obtain the (i - 1)th character of this string.\n",
    "\n",
    "We say that i is the index of the character in this string.\n",
    "\n",
    "The first character of this string has the index 0.\n",
    "\n",
    "The last character of this string has index (N - 1) with N being the size of this string, that is to say len(my_string)"
   ]
  },
  {
   "cell_type": "code",
   "execution_count": 24,
   "metadata": {
    "ExecuteTime": {
     "end_time": "2018-09-09T13:41:04.165115Z",
     "start_time": "2018-09-09T13:41:04.149515Z"
    }
   },
   "outputs": [
    {
     "data": {
      "text/plain": [
       "'H'"
      ]
     },
     "execution_count": 24,
     "metadata": {},
     "output_type": "execute_result"
    }
   ],
   "source": [
    "my_string[0]"
   ]
  },
  {
   "cell_type": "code",
   "execution_count": 25,
   "metadata": {
    "ExecuteTime": {
     "end_time": "2018-09-09T13:41:04.477115Z",
     "start_time": "2018-09-09T13:41:04.461515Z"
    }
   },
   "outputs": [
    {
     "data": {
      "text/plain": [
       "'e'"
      ]
     },
     "execution_count": 25,
     "metadata": {},
     "output_type": "execute_result"
    }
   ],
   "source": [
    "my_string[1]"
   ]
  },
  {
   "cell_type": "markdown",
   "metadata": {},
   "source": [
    "##### by the end"
   ]
  },
  {
   "cell_type": "markdown",
   "metadata": {},
   "source": [
    "It is also possible to refer to a character in the string by counting from the end, for this we add a - (minus, dash or minus in English) in front of the index.\n",
    "\n",
    "[-1] therefore refers to the last character of the string."
   ]
  },
  {
   "cell_type": "code",
   "execution_count": 26,
   "metadata": {
    "ExecuteTime": {
     "end_time": "2018-09-09T13:41:05.225915Z",
     "start_time": "2018-09-09T13:41:05.194715Z"
    }
   },
   "outputs": [
    {
     "data": {
      "text/plain": [
       "'d'"
      ]
     },
     "execution_count": 26,
     "metadata": {},
     "output_type": "execute_result"
    }
   ],
   "source": [
    "my_string[-1]"
   ]
  },
  {
   "cell_type": "markdown",
   "metadata": {},
   "source": [
    "## Slice"
   ]
  },
  {
   "cell_type": "markdown",
   "metadata": {},
   "source": [
    "A subpart of this string can be extracted using the **:** (colon, *colon*) operator.\n",
    "\n",
    "**my_string[a:b]** is the string containing the numbered characters **[a, a + 1..., b- 2, b - 1]**.\n",
    "\n",
    "This string will have by construction **(b - a) characters** of the string **my_string**, the first of which is at index **a**."
   ]
  },
  {
   "cell_type": "code",
   "execution_count": 27,
   "metadata": {
    "ExecuteTime": {
     "end_time": "2018-09-09T13:41:05.881115Z",
     "start_time": "2018-09-09T13:41:05.849915Z"
    }
   },
   "outputs": [
    {
     "data": {
      "text/plain": [
       "'Hello world'"
      ]
     },
     "execution_count": 27,
     "metadata": {},
     "output_type": "execute_result"
    }
   ],
   "source": [
    "my_string"
   ]
  },
  {
   "cell_type": "code",
   "execution_count": 28,
   "metadata": {
    "ExecuteTime": {
     "end_time": "2018-09-09T13:41:06.146315Z",
     "start_time": "2018-09-09T13:41:06.130715Z"
    }
   },
   "outputs": [
    {
     "data": {
      "text/plain": [
       "'worl'"
      ]
     },
     "execution_count": 28,
     "metadata": {},
     "output_type": "execute_result"
    }
   ],
   "source": [
    "my_string[6:10]"
   ]
  },
  {
   "cell_type": "markdown",
   "metadata": {
    "ExecuteTime": {
     "end_time": "2018-09-09T11:27:53.966264Z",
     "start_time": "2018-09-09T11:27:53.935064Z"
    }
   },
   "source": [
    "##### Lack of bounds"
   ]
  },
  {
   "cell_type": "markdown",
   "metadata": {},
   "source": [
    "If one of the two indices is omitted, it works as an absence of limit (**from the beginning** or **to the end**) "
   ]
  },
  {
   "cell_type": "code",
   "execution_count": 29,
   "metadata": {
    "ExecuteTime": {
     "end_time": "2018-09-09T13:41:06.863915Z",
     "start_time": "2018-09-09T13:41:06.848315Z"
    }
   },
   "outputs": [
    {
     "data": {
      "text/plain": [
       "'Hello'"
      ]
     },
     "execution_count": 29,
     "metadata": {},
     "output_type": "execute_result"
    }
   ],
   "source": [
    "my_string[:5]"
   ]
  },
  {
   "cell_type": "code",
   "execution_count": 30,
   "metadata": {
    "ExecuteTime": {
     "end_time": "2018-09-09T13:41:07.019915Z",
     "start_time": "2018-09-09T13:41:07.004315Z"
    }
   },
   "outputs": [
    {
     "data": {
      "text/plain": [
       "' world'"
      ]
     },
     "execution_count": 30,
     "metadata": {},
     "output_type": "execute_result"
    }
   ],
   "source": [
    "my_string[5:]"
   ]
  },
  {
   "cell_type": "markdown",
   "metadata": {},
   "source": [
    "##### By the end"
   ]
  },
  {
   "cell_type": "code",
   "execution_count": 31,
   "metadata": {
    "ExecuteTime": {
     "end_time": "2018-09-09T13:41:07.675115Z",
     "start_time": "2018-09-09T13:41:07.643915Z"
    }
   },
   "outputs": [
    {
     "data": {
      "text/plain": [
       "'world'"
      ]
     },
     "execution_count": 31,
     "metadata": {},
     "output_type": "execute_result"
    }
   ],
   "source": [
    "my_string[-5:]"
   ]
  },
  {
   "cell_type": "code",
   "execution_count": 32,
   "metadata": {
    "ExecuteTime": {
     "end_time": "2018-09-09T13:41:07.877915Z",
     "start_time": "2018-09-09T13:41:07.862315Z"
    }
   },
   "outputs": [
    {
     "data": {
      "text/plain": [
       "'Hello wo'"
      ]
     },
     "execution_count": 32,
     "metadata": {},
     "output_type": "execute_result"
    }
   ],
   "source": [
    "my_string[:-3]"
   ]
  },
  {
   "cell_type": "markdown",
   "metadata": {},
   "source": [
    "The counting system is rather intuitive: \n",
    "* **string[-5:]** will take the last 5 characters\n",
    "* **my_string[:-3]** will take the whole string except the last 3 characters"
   ]
  },
  {
   "cell_type": "markdown",
   "metadata": {},
   "source": [
    "##### Step"
   ]
  },
  {
   "cell_type": "markdown",
   "metadata": {},
   "source": [
    "A third parameter can be specified for the slice: the **step**.\n",
    "\n",
    "If you specify this third parameter, you will not take all the characters, but only **1/n** elements. \n",
    "\n",
    "If this parameter is omitted, it is equal to 1."
   ]
  },
  {
   "cell_type": "code",
   "execution_count": 34,
   "metadata": {
    "ExecuteTime": {
     "end_time": "2018-09-09T13:41:08.767115Z",
     "start_time": "2018-09-09T13:41:08.735915Z"
    }
   },
   "outputs": [
    {
     "data": {
      "text/plain": [
       "'Hello world'"
      ]
     },
     "execution_count": 34,
     "metadata": {},
     "output_type": "execute_result"
    }
   ],
   "source": [
    "my_string"
   ]
  },
  {
   "cell_type": "code",
   "execution_count": 35,
   "metadata": {
    "ExecuteTime": {
     "end_time": "2018-09-09T13:41:08.985515Z",
     "start_time": "2018-09-09T13:41:08.954315Z"
    }
   },
   "outputs": [
    {
     "data": {
      "text/plain": [
       "'Hlowrd'"
      ]
     },
     "execution_count": 35,
     "metadata": {},
     "output_type": "execute_result"
    }
   ],
   "source": [
    "my_string[::2]"
   ]
  },
  {
   "cell_type": "code",
   "execution_count": 36,
   "metadata": {
    "ExecuteTime": {
     "end_time": "2018-09-09T13:41:09.203915Z",
     "start_time": "2018-09-09T13:41:09.188315Z"
    }
   },
   "outputs": [
    {
     "data": {
      "text/plain": [
       "'Hlwl'"
      ]
     },
     "execution_count": 36,
     "metadata": {},
     "output_type": "execute_result"
    }
   ],
   "source": [
    "my_string[::3]"
   ]
  },
  {
   "cell_type": "code",
   "execution_count": 37,
   "metadata": {
    "ExecuteTime": {
     "end_time": "2018-09-09T13:41:09.656315Z",
     "start_time": "2018-09-09T13:41:09.640715Z"
    }
   },
   "outputs": [
    {
     "data": {
      "text/plain": [
       "'dlrow olleH'"
      ]
     },
     "execution_count": 37,
     "metadata": {},
     "output_type": "execute_result"
    }
   ],
   "source": [
    "my_string[::-1]"
   ]
  },
  {
   "cell_type": "code",
   "execution_count": 38,
   "metadata": {
    "ExecuteTime": {
     "end_time": "2018-09-09T13:41:09.905915Z",
     "start_time": "2018-09-09T13:41:09.890315Z"
    }
   },
   "outputs": [
    {
     "data": {
      "text/plain": [
       "'drwolH'"
      ]
     },
     "execution_count": 38,
     "metadata": {},
     "output_type": "execute_result"
    }
   ],
   "source": [
    "my_string[::-2]"
   ]
  },
  {
   "cell_type": "markdown",
   "metadata": {},
   "source": [
    "# Mutability"
   ]
  },
  {
   "cell_type": "markdown",
   "metadata": {},
   "source": [
    "A string is an **immutable** object, i.e. **it can only be modified by redefining** it using an assignment or reassignment operator **__=__** or **\\*=** or **\\+=**\n",
    "\n",
    "All the types studied so far are **immutable**: \n",
    "\n",
    "**int**, **float**, **complex**, **bool** cannot be modified, only reassigned.\n",
    "\n",
    "The property of mutability or immutability of a type is essential."
   ]
  },
  {
   "cell_type": "markdown",
   "metadata": {},
   "source": [
    "# Escape and special characters"
   ]
  },
  {
   "cell_type": "markdown",
   "metadata": {},
   "source": [
    "## Escape character"
   ]
  },
  {
   "cell_type": "markdown",
   "metadata": {},
   "source": [
    "As in most languages, there is an escape character, the backslash character."
   ]
  },
  {
   "cell_type": "markdown",
   "metadata": {},
   "source": [
    "## Frame characters"
   ]
  },
  {
   "cell_type": "markdown",
   "metadata": {},
   "source": [
    "Of course the enclosing operator (**apostrophes** or **quotes**) used cannot simply be included as a character in a string"
   ]
  },
  {
   "cell_type": "code",
   "execution_count": null,
   "metadata": {
    "ExecuteTime": {
     "end_time": "2018-09-09T13:41:11.840315Z",
     "start_time": "2018-09-09T13:41:11.809115Z"
    }
   },
   "outputs": [],
   "source": [
    "'be careful when putting ' apostrophes in a string'."
   ]
  },
  {
   "cell_type": "markdown",
   "metadata": {},
   "source": [
    "You must precede the frame character used (**__'__** or **__\"__**) with the **escape character** (backslash).\n",
    "\n",
    "The backslash character**, given its status, also needs to be escaped within a string: **\\\\\\\\**"
   ]
  },
  {
   "cell_type": "code",
   "execution_count": 39,
   "metadata": {
    "ExecuteTime": {
     "end_time": "2018-09-09T13:41:12.245915Z",
     "start_time": "2018-09-09T13:41:12.230315Z"
    }
   },
   "outputs": [
    {
     "name": "stdout",
     "output_type": "stream",
     "text": [
      "The frame character must be preceded by a \\ \n"
     ]
    }
   ],
   "source": [
    "print('The frame character must be preceded by a \\\\ ')"
   ]
  },
  {
   "cell_type": "code",
   "execution_count": 44,
   "metadata": {
    "ExecuteTime": {
     "end_time": "2018-09-09T13:41:12.495515Z",
     "start_time": "2018-09-09T13:41:12.479915Z"
    }
   },
   "outputs": [
    {
     "name": "stdout",
     "output_type": "stream",
     "text": [
      "The same goes for inverted commas if that's what you're using in a string that \"contains\" them\n"
     ]
    }
   ],
   "source": [
    "print(\"The same goes for inverted commas if that's what you're using in a string that \\\"contains\\\" them\")"
   ]
  },
  {
   "cell_type": "markdown",
   "metadata": {},
   "source": [
    "## Special characters"
   ]
  },
  {
   "cell_type": "markdown",
   "metadata": {},
   "source": [
    "In addition, there are two non-printed characters to know:\n",
    "- **\\n** : ***new line*** which means a new line\n",
    "- **\\t** : ***tabulation*** which means a tabulation space (larger than a normal space)\n",
    "\n",
    "There is also a **\\r** character, thanks to Microsoft, because in Windows, a simple line feed is supposed to be signified by the set of two **\\r\\n** characters (***carriage return - line feed***)"
   ]
  },
  {
   "cell_type": "code",
   "execution_count": 46,
   "metadata": {
    "ExecuteTime": {
     "end_time": "2018-09-09T13:41:14.585915Z",
     "start_time": "2018-09-09T13:41:14.570315Z"
    }
   },
   "outputs": [
    {
     "name": "stdout",
     "output_type": "stream",
     "text": [
      "The line break is expressed as \n",
      " \"new line\"\n"
     ]
    }
   ],
   "source": [
    "print('The line break is expressed as \\n \"new line\"')"
   ]
  },
  {
   "cell_type": "markdown",
   "metadata": {},
   "source": [
    "# Methods"
   ]
  },
  {
   "cell_type": "markdown",
   "metadata": {},
   "source": [
    "A method is a function applied to an object. \n",
    "\n",
    "We won't go into detail here, but remember that to apply the **meth** method to the **obj** object, we use the **obj.meth()** statement."
   ]
  },
  {
   "cell_type": "markdown",
   "metadata": {},
   "source": [
    "## Subpart replacement of a string"
   ]
  },
  {
   "cell_type": "markdown",
   "metadata": {},
   "source": [
    "To replace any sub-string of a string corresponding to a tested value with another string and return the result:"
   ]
  },
  {
   "cell_type": "code",
   "execution_count": 48,
   "metadata": {
    "ExecuteTime": {
     "end_time": "2018-09-09T13:41:16.457915Z",
     "start_time": "2018-09-09T13:41:16.442315Z"
    }
   },
   "outputs": [
    {
     "data": {
      "text/plain": [
       "'Bello world'"
      ]
     },
     "execution_count": 48,
     "metadata": {},
     "output_type": "execute_result"
    }
   ],
   "source": [
    "my_string.replace('H', 'B')"
   ]
  },
  {
   "cell_type": "markdown",
   "metadata": {},
   "source": [
    "The string itself has not been modified"
   ]
  },
  {
   "cell_type": "code",
   "execution_count": 50,
   "metadata": {
    "ExecuteTime": {
     "end_time": "2018-09-09T13:41:16.879115Z",
     "start_time": "2018-09-09T13:41:16.863515Z"
    }
   },
   "outputs": [
    {
     "data": {
      "text/plain": [
       "'Hello world'"
      ]
     },
     "execution_count": 50,
     "metadata": {},
     "output_type": "execute_result"
    }
   ],
   "source": [
    "my_string"
   ]
  },
  {
   "cell_type": "markdown",
   "metadata": {},
   "source": [
    "To modify a character string the only possibility is to reassign it"
   ]
  },
  {
   "cell_type": "code",
   "execution_count": 51,
   "metadata": {
    "ExecuteTime": {
     "end_time": "2018-09-09T13:41:17.393915Z",
     "start_time": "2018-09-09T13:41:17.378315Z"
    }
   },
   "outputs": [],
   "source": [
    "my_string = my_string.replace('e', 'a')"
   ]
  },
  {
   "cell_type": "code",
   "execution_count": 52,
   "metadata": {
    "ExecuteTime": {
     "end_time": "2018-09-09T13:41:17.612315Z",
     "start_time": "2018-09-09T13:41:17.596715Z"
    }
   },
   "outputs": [
    {
     "data": {
      "text/plain": [
       "'Hallo world'"
      ]
     },
     "execution_count": 52,
     "metadata": {},
     "output_type": "execute_result"
    }
   ],
   "source": [
    "my_string"
   ]
  },
  {
   "cell_type": "markdown",
   "metadata": {},
   "source": [
    "This function is also used to delete occurrences of a string"
   ]
  },
  {
   "cell_type": "code",
   "execution_count": 53,
   "metadata": {
    "ExecuteTime": {
     "end_time": "2018-09-09T13:41:18.127115Z",
     "start_time": "2018-09-09T13:41:18.111515Z"
    }
   },
   "outputs": [
    {
     "data": {
      "text/plain": [
       "'Hllo world'"
      ]
     },
     "execution_count": 53,
     "metadata": {},
     "output_type": "execute_result"
    }
   ],
   "source": [
    "my_string.replace('a', '')"
   ]
  },
  {
   "cell_type": "markdown",
   "metadata": {},
   "source": [
    "## Searching for and enumerating a subpart of a chain"
   ]
  },
  {
   "cell_type": "markdown",
   "metadata": {},
   "source": [
    "Find the position of the **first character** of the **first occurrence** corresponding to the searched string"
   ]
  },
  {
   "cell_type": "code",
   "execution_count": 54,
   "metadata": {
    "ExecuteTime": {
     "end_time": "2018-09-09T13:41:18.829115Z",
     "start_time": "2018-09-09T13:41:18.813515Z"
    }
   },
   "outputs": [
    {
     "data": {
      "text/plain": [
       "8"
      ]
     },
     "execution_count": 54,
     "metadata": {},
     "output_type": "execute_result"
    }
   ],
   "source": [
    "my_string.find('r')"
   ]
  },
  {
   "cell_type": "markdown",
   "metadata": {},
   "source": [
    "Count the number of times a sub-string is present in a string\n"
   ]
  },
  {
   "cell_type": "code",
   "execution_count": 55,
   "metadata": {
    "ExecuteTime": {
     "end_time": "2018-09-09T13:41:19.281515Z",
     "start_time": "2018-09-09T13:41:19.265915Z"
    }
   },
   "outputs": [
    {
     "data": {
      "text/plain": [
       "3"
      ]
     },
     "execution_count": 55,
     "metadata": {},
     "output_type": "execute_result"
    }
   ],
   "source": [
    "my_string.count('l')"
   ]
  },
  {
   "cell_type": "markdown",
   "metadata": {},
   "source": [
    "## Cleaning"
   ]
  },
  {
   "cell_type": "markdown",
   "metadata": {},
   "source": [
    "Remove the characters on the left and right (by default the **space** character)"
   ]
  },
  {
   "cell_type": "code",
   "execution_count": 56,
   "metadata": {
    "ExecuteTime": {
     "end_time": "2018-09-09T13:41:20.014715Z",
     "start_time": "2018-09-09T13:41:19.999115Z"
    }
   },
   "outputs": [
    {
     "data": {
      "text/plain": [
       "'123'"
      ]
     },
     "execution_count": 56,
     "metadata": {},
     "output_type": "execute_result"
    }
   ],
   "source": [
    "'   123   '.strip()"
   ]
  },
  {
   "cell_type": "markdown",
   "metadata": {},
   "source": [
    "The specific methods **lstrip()** and **rstrip()**, allow to remove characters only on the left (l) or on the right (r) "
   ]
  },
  {
   "cell_type": "code",
   "execution_count": 57,
   "metadata": {
    "ExecuteTime": {
     "end_time": "2018-09-09T13:41:20.467115Z",
     "start_time": "2018-09-09T13:41:20.451515Z"
    },
    "scrolled": true
   },
   "outputs": [
    {
     "data": {
      "text/plain": [
       "'Hallo wor'"
      ]
     },
     "execution_count": 57,
     "metadata": {},
     "output_type": "execute_result"
    }
   ],
   "source": [
    "my_string.rstrip('ld')"
   ]
  },
  {
   "cell_type": "markdown",
   "metadata": {},
   "source": [
    "## Separation and join"
   ]
  },
  {
   "cell_type": "markdown",
   "metadata": {},
   "source": [
    "Split a string into pieces based on a sub-string and return a list of the different split parts.\n",
    "\n",
    "If no parameter is specified the string will be split based on the **space** character."
   ]
  },
  {
   "cell_type": "code",
   "execution_count": 58,
   "metadata": {
    "ExecuteTime": {
     "end_time": "2018-09-09T13:41:21.153515Z",
     "start_time": "2018-09-09T13:41:21.137915Z"
    }
   },
   "outputs": [
    {
     "data": {
      "text/plain": [
       "['Hallo', 'world']"
      ]
     },
     "execution_count": 58,
     "metadata": {},
     "output_type": "execute_result"
    }
   ],
   "source": [
    "my_string.split()"
   ]
  },
  {
   "cell_type": "code",
   "execution_count": 60,
   "metadata": {
    "ExecuteTime": {
     "end_time": "2018-09-09T13:41:21.387515Z",
     "start_time": "2018-09-09T13:41:21.371915Z"
    }
   },
   "outputs": [
    {
     "data": {
      "text/plain": [
       "['Hall', ' w', 'rld']"
      ]
     },
     "execution_count": 60,
     "metadata": {},
     "output_type": "execute_result"
    }
   ],
   "source": [
    "my_string.split('o')"
   ]
  },
  {
   "cell_type": "markdown",
   "metadata": {},
   "source": [
    "Be careful, by construction, the string used is removed from the result, so it is not in any element of the list (here, there is no more e)\n",
    "\n",
    "There is also a derivative of the split() method, the splitlines() method which allows you to split a text into a list of lines"
   ]
  },
  {
   "cell_type": "code",
   "execution_count": 61,
   "metadata": {
    "ExecuteTime": {
     "end_time": "2018-09-09T13:41:21.871115Z",
     "start_time": "2018-09-09T13:41:21.839915Z"
    }
   },
   "outputs": [
    {
     "name": "stdout",
     "output_type": "stream",
     "text": [
      "Blue\n",
      "Red\n",
      "Green\n"
     ]
    }
   ],
   "source": [
    "colors_string = 'Blue\\nRed\\nGreen'\n",
    "print(colors_string)"
   ]
  },
  {
   "cell_type": "code",
   "execution_count": 62,
   "metadata": {
    "ExecuteTime": {
     "end_time": "2018-09-09T13:41:22.666715Z",
     "start_time": "2018-09-09T13:41:22.651115Z"
    }
   },
   "outputs": [
    {
     "data": {
      "text/plain": [
       "['Blue', 'Red', 'Green']"
      ]
     },
     "execution_count": 62,
     "metadata": {},
     "output_type": "execute_result"
    }
   ],
   "source": [
    "colors_string.splitlines()"
   ]
  },
  {
   "cell_type": "markdown",
   "metadata": {},
   "source": [
    "The inverse function of the **split()** method is a bit surprising in its formulation, it allows to concatenate the elements of an array containing strings using a string"
   ]
  },
  {
   "cell_type": "code",
   "execution_count": 65,
   "metadata": {
    "ExecuteTime": {
     "end_time": "2018-09-09T13:41:23.259515Z",
     "start_time": "2018-09-09T13:41:23.243915Z"
    }
   },
   "outputs": [],
   "source": [
    "join_string = ' and '"
   ]
  },
  {
   "cell_type": "code",
   "execution_count": 66,
   "metadata": {
    "ExecuteTime": {
     "end_time": "2018-09-09T13:41:23.602715Z",
     "start_time": "2018-09-09T13:41:23.587115Z"
    }
   },
   "outputs": [
    {
     "data": {
      "text/plain": [
       "'Blue and Red and Green'"
      ]
     },
     "execution_count": 66,
     "metadata": {},
     "output_type": "execute_result"
    }
   ],
   "source": [
    "join_string.join(['Blue', 'Red', 'Green'])"
   ]
  },
  {
   "cell_type": "markdown",
   "metadata": {},
   "source": [
    "Or more directly:"
   ]
  },
  {
   "cell_type": "code",
   "execution_count": 67,
   "metadata": {
    "ExecuteTime": {
     "end_time": "2018-09-09T13:41:24.148715Z",
     "start_time": "2018-09-09T13:41:24.133115Z"
    }
   },
   "outputs": [
    {
     "data": {
      "text/plain": [
       "'Blue and Red and Green'"
      ]
     },
     "execution_count": 67,
     "metadata": {},
     "output_type": "execute_result"
    }
   ],
   "source": [
    "' and '.join(['Blue', 'Red', 'Green'])"
   ]
  },
  {
   "cell_type": "markdown",
   "metadata": {},
   "source": [
    "## Case"
   ]
  },
  {
   "cell_type": "markdown",
   "metadata": {
    "ExecuteTime": {
     "end_time": "2018-09-09T12:04:30.463278Z",
     "start_time": "2018-09-09T12:04:30.432078Z"
    }
   },
   "source": [
    "First, it is important to note that strings are case sensitive."
   ]
  },
  {
   "cell_type": "code",
   "execution_count": 68,
   "metadata": {
    "ExecuteTime": {
     "end_time": "2018-09-09T13:41:25.693115Z",
     "start_time": "2018-09-09T13:41:25.677515Z"
    }
   },
   "outputs": [
    {
     "data": {
      "text/plain": [
       "False"
      ]
     },
     "execution_count": 68,
     "metadata": {},
     "output_type": "execute_result"
    }
   ],
   "source": [
    "'a' == 'A'"
   ]
  },
  {
   "cell_type": "markdown",
   "metadata": {},
   "source": [
    "To get the string in upper or lower case."
   ]
  },
  {
   "cell_type": "code",
   "execution_count": 69,
   "metadata": {
    "ExecuteTime": {
     "end_time": "2018-09-09T13:41:24.991115Z",
     "start_time": "2018-09-09T13:41:24.975515Z"
    }
   },
   "outputs": [
    {
     "name": "stdout",
     "output_type": "stream",
     "text": [
      "blue\n",
      "red\n",
      "green\n"
     ]
    }
   ],
   "source": [
    "print(colors_string.lower())"
   ]
  },
  {
   "cell_type": "code",
   "execution_count": 70,
   "metadata": {
    "ExecuteTime": {
     "end_time": "2018-09-09T13:41:25.225115Z",
     "start_time": "2018-09-09T13:41:25.209515Z"
    }
   },
   "outputs": [
    {
     "name": "stdout",
     "output_type": "stream",
     "text": [
      "BLUE\n",
      "RED\n",
      "GREEN\n"
     ]
    }
   ],
   "source": [
    "print(colors_string.upper())"
   ]
  },
  {
   "cell_type": "markdown",
   "metadata": {},
   "source": [
    "The following two methods can also be used to capitalise only certain letters and the rest in lower case."
   ]
  },
  {
   "cell_type": "code",
   "execution_count": 71,
   "metadata": {},
   "outputs": [
    {
     "name": "stdout",
     "output_type": "stream",
     "text": [
      "Blue\n",
      "red\n",
      "green\n"
     ]
    }
   ],
   "source": [
    "print(colors_string.capitalize()) "
   ]
  },
  {
   "cell_type": "code",
   "execution_count": 72,
   "metadata": {},
   "outputs": [
    {
     "name": "stdout",
     "output_type": "stream",
     "text": [
      "Blue\n",
      "Red\n",
      "Green\n"
     ]
    }
   ],
   "source": [
    "print(colors_string.title()) "
   ]
  },
  {
   "cell_type": "markdown",
   "metadata": {},
   "source": [
    "## Content testing"
   ]
  },
  {
   "cell_type": "markdown",
   "metadata": {},
   "source": [
    "##### Start and end of string"
   ]
  },
  {
   "cell_type": "code",
   "execution_count": 74,
   "metadata": {
    "ExecuteTime": {
     "end_time": "2018-09-09T13:41:26.504315Z",
     "start_time": "2018-09-09T13:41:26.488715Z"
    }
   },
   "outputs": [
    {
     "data": {
      "text/plain": [
       "False"
      ]
     },
     "execution_count": 74,
     "metadata": {},
     "output_type": "execute_result"
    }
   ],
   "source": [
    "my_string.endswith('Hello')"
   ]
  },
  {
   "cell_type": "code",
   "execution_count": 75,
   "metadata": {
    "ExecuteTime": {
     "end_time": "2018-09-09T13:41:26.722715Z",
     "start_time": "2018-09-09T13:41:26.707115Z"
    }
   },
   "outputs": [
    {
     "data": {
      "text/plain": [
       "True"
      ]
     },
     "execution_count": 75,
     "metadata": {},
     "output_type": "execute_result"
    }
   ],
   "source": [
    "my_string.startswith('Hello')"
   ]
  },
  {
   "cell_type": "markdown",
   "metadata": {},
   "source": [
    "##### Digital-only content"
   ]
  },
  {
   "cell_type": "code",
   "execution_count": 77,
   "metadata": {
    "ExecuteTime": {
     "end_time": "2018-09-09T13:41:27.221915Z",
     "start_time": "2018-09-09T13:41:27.190715Z"
    }
   },
   "outputs": [
    {
     "data": {
      "text/plain": [
       "True"
      ]
     },
     "execution_count": 77,
     "metadata": {},
     "output_type": "execute_result"
    }
   ],
   "source": [
    "'12'.isnumeric()"
   ]
  },
  {
   "cell_type": "markdown",
   "metadata": {},
   "source": [
    "Note that numbers with a decimal point do not fit into this framework:"
   ]
  },
  {
   "cell_type": "code",
   "execution_count": 78,
   "metadata": {
    "ExecuteTime": {
     "end_time": "2018-09-09T13:41:27.658715Z",
     "start_time": "2018-09-09T13:41:27.643115Z"
    }
   },
   "outputs": [
    {
     "data": {
      "text/plain": [
       "False"
      ]
     },
     "execution_count": 78,
     "metadata": {},
     "output_type": "execute_result"
    }
   ],
   "source": [
    "'1.2'.isnumeric()"
   ]
  },
  {
   "cell_type": "markdown",
   "metadata": {},
   "source": [
    "##### Alphabetical content only"
   ]
  },
  {
   "cell_type": "code",
   "execution_count": 81,
   "metadata": {
    "ExecuteTime": {
     "end_time": "2018-09-09T13:41:28.157915Z",
     "start_time": "2018-09-09T13:41:28.142315Z"
    }
   },
   "outputs": [
    {
     "data": {
      "text/plain": [
       "True"
      ]
     },
     "execution_count": 81,
     "metadata": {},
     "output_type": "execute_result"
    }
   ],
   "source": [
    "'Dog'.isalpha()"
   ]
  },
  {
   "cell_type": "code",
   "execution_count": 82,
   "metadata": {
    "ExecuteTime": {
     "end_time": "2018-09-09T13:41:28.376315Z",
     "start_time": "2018-09-09T13:41:28.360715Z"
    }
   },
   "outputs": [
    {
     "data": {
      "text/plain": [
       "False"
      ]
     },
     "execution_count": 82,
     "metadata": {},
     "output_type": "execute_result"
    }
   ],
   "source": [
    "'Dog-Cat'.isalpha()"
   ]
  },
  {
   "cell_type": "code",
   "execution_count": 83,
   "metadata": {
    "ExecuteTime": {
     "end_time": "2018-09-09T13:41:28.641515Z",
     "start_time": "2018-09-09T13:41:28.625915Z"
    }
   },
   "outputs": [
    {
     "data": {
      "text/plain": [
       "False"
      ]
     },
     "execution_count": 83,
     "metadata": {},
     "output_type": "execute_result"
    }
   ],
   "source": [
    "'Dog Cat'.isalpha()"
   ]
  },
  {
   "cell_type": "markdown",
   "metadata": {},
   "source": [
    "##### Content by case"
   ]
  },
  {
   "cell_type": "code",
   "execution_count": 84,
   "metadata": {
    "ExecuteTime": {
     "end_time": "2018-09-09T13:41:29.437115Z",
     "start_time": "2018-09-09T13:41:29.405915Z"
    }
   },
   "outputs": [
    {
     "data": {
      "text/plain": [
       "True"
      ]
     },
     "execution_count": 84,
     "metadata": {},
     "output_type": "execute_result"
    }
   ],
   "source": [
    "'DOG'.isupper()"
   ]
  },
  {
   "cell_type": "code",
   "execution_count": 85,
   "metadata": {
    "ExecuteTime": {
     "end_time": "2018-09-09T13:41:29.873915Z",
     "start_time": "2018-09-09T13:41:29.858315Z"
    }
   },
   "outputs": [
    {
     "data": {
      "text/plain": [
       "True"
      ]
     },
     "execution_count": 85,
     "metadata": {},
     "output_type": "execute_result"
    }
   ],
   "source": [
    "'dog'.islower()"
   ]
  },
  {
   "cell_type": "markdown",
   "metadata": {},
   "source": [
    "# Formatting"
   ]
  },
  {
   "cell_type": "markdown",
   "metadata": {},
   "source": [
    "There are four equivalent methods for formatting a string, from the most desirable to the least desirable:\n",
    "1. Using the string method **format()**\n",
    "1. Use f-strings (does not work on versions below Python 3.6)\n",
    "1. Use the **__%__** formatting operator\n",
    "1. Do string concatenations"
   ]
  },
  {
   "cell_type": "markdown",
   "metadata": {},
   "source": [
    "For example, let's say we want to get the following string:\n",
    "```Python\n",
    "\n",
    "'Paul is 23 years old, he has a 13.26 average grade'.\n",
    "```\n",
    "From the data :\n"
   ]
  },
  {
   "cell_type": "code",
   "execution_count": 88,
   "metadata": {
    "ExecuteTime": {
     "end_time": "2018-09-09T13:41:32.650715Z",
     "start_time": "2018-09-09T13:41:32.635115Z"
    }
   },
   "outputs": [],
   "source": [
    "age = 23\n",
    "mean = 13.256489\n",
    "name = 'Paul'"
   ]
  },
  {
   "cell_type": "markdown",
   "metadata": {},
   "source": [
    "## format() string method"
   ]
  },
  {
   "cell_type": "markdown",
   "metadata": {},
   "source": [
    "The operation can be carried out by signifying the places where you wish to introduce the formatting with braces **{}**"
   ]
  },
  {
   "cell_type": "code",
   "execution_count": 90,
   "metadata": {
    "ExecuteTime": {
     "end_time": "2018-09-09T13:41:35.755115Z",
     "start_time": "2018-09-09T13:41:35.723915Z"
    },
    "scrolled": true
   },
   "outputs": [
    {
     "data": {
      "text/plain": [
       "'Paul is 23 years old, he had an average of 13.256489'"
      ]
     },
     "execution_count": 90,
     "metadata": {},
     "output_type": "execute_result"
    }
   ],
   "source": [
    "'{} is {} years old, he had an average of {}'.format(name, age, mean)"
   ]
  },
  {
   "cell_type": "markdown",
   "metadata": {},
   "source": [
    "Within the brace, two optional parameters** can be specified:\n",
    "1. The index of the element in the provided list (or the dictionary key), which is convenient when there are repetitions"
   ]
  },
  {
   "cell_type": "code",
   "execution_count": 93,
   "metadata": {
    "ExecuteTime": {
     "end_time": "2018-09-09T13:41:36.644315Z",
     "start_time": "2018-09-09T13:41:36.613115Z"
    }
   },
   "outputs": [
    {
     "data": {
      "text/plain": [
       "'Paul is 23 years old, he had an average of 13.256489'"
      ]
     },
     "execution_count": 93,
     "metadata": {},
     "output_type": "execute_result"
    }
   ],
   "source": [
    "'{0} is {1} years old, he had an average of {2}'.format(name, age, mean)"
   ]
  },
  {
   "cell_type": "markdown",
   "metadata": {
    "ExecuteTime": {
     "end_time": "2018-09-09T12:51:04.733496Z",
     "start_time": "2018-09-09T12:51:04.717896Z"
    }
   },
   "source": [
    "2. Additional formatting specifications. This will mainly involve :\n",
    "    - Specifying a number of digits after the decimal point (fixing the number of digits) using the formulation **.Nf** N being the number of digits    \n",
    "    - Putting padding zeros in front of an integer using the formula **0Nd** N being the total number of digits of the integer\n",
    "\n",
    "When this second parameter is specified, it is necessary to separate the two parameters with the operator **:** (colon)\n",
    "\n"
   ]
  },
  {
   "cell_type": "code",
   "execution_count": 94,
   "metadata": {
    "ExecuteTime": {
     "end_time": "2018-09-09T13:41:37.408715Z",
     "start_time": "2018-09-09T13:41:37.393115Z"
    }
   },
   "outputs": [
    {
     "data": {
      "text/plain": [
       "'13.26'"
      ]
     },
     "execution_count": 94,
     "metadata": {},
     "output_type": "execute_result"
    }
   ],
   "source": [
    "'{:.2f}'.format(mean)"
   ]
  },
  {
   "cell_type": "code",
   "execution_count": 95,
   "metadata": {
    "ExecuteTime": {
     "end_time": "2018-09-09T13:41:37.798715Z",
     "start_time": "2018-09-09T13:41:37.783115Z"
    }
   },
   "outputs": [
    {
     "data": {
      "text/plain": [
       "'0023'"
      ]
     },
     "execution_count": 95,
     "metadata": {},
     "output_type": "execute_result"
    }
   ],
   "source": [
    "'{:04d}'.format(age)"
   ]
  },
  {
   "cell_type": "code",
   "execution_count": 98,
   "metadata": {
    "ExecuteTime": {
     "end_time": "2018-09-09T13:41:38.344715Z",
     "start_time": "2018-09-09T13:41:38.313515Z"
    }
   },
   "outputs": [
    {
     "data": {
      "text/plain": [
       "'Paul is 23 years old, he had an average of 13.26'"
      ]
     },
     "execution_count": 98,
     "metadata": {},
     "output_type": "execute_result"
    }
   ],
   "source": [
    "'{} is {} years old, he had an average of {:.2f}'.format(name, age, mean)"
   ]
  },
  {
   "cell_type": "markdown",
   "metadata": {},
   "source": [
    "## F-strings"
   ]
  },
  {
   "cell_type": "markdown",
   "metadata": {},
   "source": [
    "The f-strings are a recent creation (does not work on versions below Python 3.6) and very practical.\n",
    "\n",
    "Some may find this representation a little less readable.\n",
    "\n",
    "To define an f-string, you just have to put the variable names directly in the braces, instead of the specifying parameter.\n",
    "\n",
    "Apart from that, the syntax is identical to that of the format() method."
   ]
  },
  {
   "cell_type": "code",
   "execution_count": 99,
   "metadata": {
    "ExecuteTime": {
     "end_time": "2018-09-09T13:41:41.917115Z",
     "start_time": "2018-09-09T13:41:41.901515Z"
    }
   },
   "outputs": [
    {
     "data": {
      "text/plain": [
       "'Paul is 23 years old, he had an average of 13.26'"
      ]
     },
     "execution_count": 99,
     "metadata": {},
     "output_type": "execute_result"
    }
   ],
   "source": [
    "f'{name} is {age} years old, he had an average of {mean:.2f}'"
   ]
  },
  {
   "cell_type": "markdown",
   "metadata": {},
   "source": [
    "The templating system cannot work in this case. Formatting is **immediately applied**."
   ]
  },
  {
   "cell_type": "code",
   "execution_count": null,
   "metadata": {
    "ExecuteTime": {
     "end_time": "2018-09-09T13:41:43.555115Z",
     "start_time": "2018-09-09T13:41:43.523915Z"
    }
   },
   "outputs": [],
   "source": [
    "'%s a %d ans, il a eu %.2f de moyenne' % (nom, age, moyenne)"
   ]
  }
 ],
 "metadata": {
  "kernelspec": {
   "display_name": "Python 3",
   "language": "python",
   "name": "python3"
  },
  "language_info": {
   "codemirror_mode": {
    "name": "ipython",
    "version": 3
   },
   "file_extension": ".py",
   "mimetype": "text/x-python",
   "name": "python",
   "nbconvert_exporter": "python",
   "pygments_lexer": "ipython3",
   "version": "3.8.9"
  },
  "toc": {
   "base_numbering": 1,
   "nav_menu": {
    "height": "512px",
    "width": "252px"
   },
   "number_sections": true,
   "sideBar": true,
   "skip_h1_title": false,
   "title_cell": "Table of Contents",
   "title_sidebar": "Contents",
   "toc_cell": false,
   "toc_position": {
    "height": "810.98px",
    "left": "0px",
    "right": "1328px",
    "top": "110.994px",
    "width": "185.966px"
   },
   "toc_section_display": "block",
   "toc_window_display": true
  },
  "varInspector": {
   "cols": {
    "lenName": 16,
    "lenType": 16,
    "lenVar": 40
   },
   "kernels_config": {
    "python": {
     "delete_cmd_postfix": "",
     "delete_cmd_prefix": "del ",
     "library": "var_list.py",
     "varRefreshCmd": "print(var_dic_list())"
    },
    "r": {
     "delete_cmd_postfix": ") ",
     "delete_cmd_prefix": "rm(",
     "library": "var_list.r",
     "varRefreshCmd": "cat(var_dic_list()) "
    }
   },
   "position": {
    "height": "459px",
    "left": "913.2px",
    "right": "20px",
    "top": "120px",
    "width": "350px"
   },
   "types_to_exclude": [
    "module",
    "function",
    "builtin_function_or_method",
    "instance",
    "_Feature"
   ],
   "window_display": false
  }
 },
 "nbformat": 4,
 "nbformat_minor": 2
}
